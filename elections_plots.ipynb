{
 "cells": [
  {
   "cell_type": "code",
   "execution_count": 6,
   "metadata": {},
   "outputs": [
    {
     "data": {
      "text/plain": [
       "('1ZbeDYjnInKYPNELRocMTqkHyrojPS56Kvz57NB4_lM',\n",
       " 'vISU04KdqfWrIJAcvmK2dBlDbbU30R7Db2iwO1UDd3U')"
      ]
     },
     "execution_count": 6,
     "metadata": {},
     "output_type": "execute_result"
    }
   ],
   "source": [
    "from mastodon import Mastodon\n",
    "\n",
    "Mastodon.create_app(\n",
    "    'your_app_name',\n",
    "    api_base_url = 'https://mastodon.social', #this is determined by your chosen server, if you picked the general server, dont change this line\n",
    "    to_file = 'your_client_crediential_file_name.secret'\n",
    ")"
   ]
  },
  {
   "cell_type": "code",
   "execution_count": 7,
   "metadata": {},
   "outputs": [
    {
     "data": {
      "text/plain": [
       "'YINmZjjCd51i5RtIFCUSmSrFgDa-Qs9mN76sS_IdpGw'"
      ]
     },
     "execution_count": 7,
     "metadata": {},
     "output_type": "execute_result"
    }
   ],
   "source": [
    "API = Mastodon(client_id = 'your_client_crediential_file_name.secret',)\n",
    "API.log_in(\n",
    "    'abhilash.m.abhilash@student.uva.nl', #no caps\n",
    "    'qwePOI123',\n",
    "    to_file = 'your_user_crediential_file_name.secret'\n",
    ")"
   ]
  },
  {
   "cell_type": "code",
   "execution_count": 40,
   "metadata": {},
   "outputs": [],
   "source": [
    "import datetime\n",
    "\n",
    "start_date = datetime.date(2023, 1, 1)\n",
    "end_date = datetime.date(2023, 12, 1)\n",
    "\n",
    "search_results = []\n",
    "latest_post_date = datetime.date.today() + datetime.timedelta(days=1)  # Set initial value to tomorrow's date\n",
    "\n",
    "while latest_post_date > end_date:\n",
    "    new_results = API.search(q='vvd')\n",
    "    search_results.extend(new_results['statuses'])\n",
    "    \n",
    "print(f\"Found {len(search_results)} results.\")\n",
    "for post in search_results:\n",
    "    print(f\"Posted by {post['account']['acct']} at {post['created_at']}:\")\n",
    "    print(post['content'])\n",
    "    print(\"------\")\n"
   ]
  }
 ],
 "metadata": {
  "kernelspec": {
   "display_name": "Python 3",
   "language": "python",
   "name": "python3"
  },
  "language_info": {
   "codemirror_mode": {
    "name": "ipython",
    "version": 3
   },
   "file_extension": ".py",
   "mimetype": "text/x-python",
   "name": "python",
   "nbconvert_exporter": "python",
   "pygments_lexer": "ipython3",
   "version": "3.7.3"
  }
 },
 "nbformat": 4,
 "nbformat_minor": 2
}
